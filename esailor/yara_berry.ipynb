{
 "cells": [
  {
   "cell_type": "code",
   "execution_count": 2,
   "id": "f805dd98",
   "metadata": {},
   "outputs": [],
   "source": [
    "from rlberry.envs import gym_make\n",
    "from rlberry.manager import plot_writer_data, AgentManager, evaluate_agents\n",
    "from rlberry.agents.torch import A2CAgent\n",
    "from rlberry.agents.torch.utils.training import model_factory_from_env"
   ]
  },
  {
   "cell_type": "code",
   "execution_count": null,
   "id": "499e4aa4-2f11-43e6-b0b2-ae1f5c9190fa",
   "metadata": {
    "scrolled": true
   },
   "outputs": [],
   "source": [
    "default_agent = AgentManager(A2CAgent, (gym_make, dict(id=\"CartPole-v1\")),\n",
    "fit_budget=3e5,\n",
    "eval_kwargs=dict(eval_horizon=500),\n",
    "n_fit=1,\n",
    "agent_name=\"A2C default\",\n",
    ")\n",
    "\n",
    "print(\"Training ...\")\n",
    "default_agent.fit()\n",
    "_ = plot_writer_data([default_agent],\n",
    "                    tag=\"episode_rewards\",\n",
    "                    title=\"Training Episode Cumulative Rewards\",\n",
    "                    show=True,\n",
    "                    )"
   ]
  },
  {
   "cell_type": "code",
   "execution_count": null,
   "id": "34a9449b",
   "metadata": {},
   "outputs": [
    {
     "name": "stderr",
     "output_type": "stream",
     "text": [
      "\u001b[38;21m[INFO] 17:17: Running AgentManager fit() for PPO default with n_fit = 1 and max_workers = None. \u001b[0m\n"
     ]
    },
    {
     "name": "stdout",
     "output_type": "stream",
     "text": [
      "\n",
      "\n",
      "\n",
      "=================================\n",
      "Training ...\n",
      "=================================\n",
      "\n",
      "\n",
      "\n",
      "ROS_MASTER_URI=http://localhost:14232\n",
      "\n",
      "GAZEBO_MASTER_URI=http://localhost:14430\n",
      "\n",
      "Gazebo launched!\n"
     ]
    },
    {
     "name": "stderr",
     "output_type": "stream",
     "text": [
      "/home/eduardo/miniconda3/envs/yara_berry/lib/python3.10/site-packages/gymnasium/envs/registration.py:481: UserWarning: \u001b[33mWARN: The environment creator metadata doesn't include `render_modes`, contains: ['render.modes']\u001b[0m\n",
      "  logger.warn(\n",
      "[WARN] [1690211842.154525]: wait_for_service(/gazebo/unpause_physics): failed to contact, will keep trying\n",
      "Gazebo multi-robot simulator, version 11.13.0\n",
      "Copyright (C) 2012 Open Source Robotics Foundation.\n",
      "Released under the Apache 2 License.\n",
      "http://gazebosim.org\n",
      "\n",
      "\u001b[1;33m[Wrn] [GuiIface.cc:200] \u001b[0m\u001b[1;33mg/gui-plugin is really loading a SystemPlugin. \u001b[0m\u001b[1;33mTo load a GUI plugin please use --gui-client-plugin \n",
      "\u001b[0mGazebo multi-robot simulator, version 11.13.0\n",
      "Copyright (C) 2012 Open Source Robotics Foundation.\n",
      "Released under the Apache 2 License.\n",
      "http://gazebosim.org\n",
      "\n"
     ]
    },
    {
     "name": "stdout",
     "output_type": "stream",
     "text": [
      "\u001b[0m[ INFO] [1690211843.804079200]: Finished loading Gazebo ROS API Plugin.\u001b[0m\n",
      "\u001b[0m[ INFO] [1690211843.805160791]: waitForService: Service [/gazebo/set_physics_properties] has not been advertised, waiting...\u001b[0m\n",
      "\u001b[1;32m[Msg] \u001b[0m\u001b[1;32mWaiting for master.\u001b[0m\u001b[1;32m\n",
      "\u001b[0m\u001b[1;32m\u001b[0m\u001b[1;32m[Msg] \u001b[0m\u001b[1;32mConnected to gazebo master @ \u001b[0m\u001b[1;32mhttp://127.0.0.1:14430\u001b[0m\u001b[1;32m\n",
      "\u001b[0m\u001b[1;32m\u001b[0m\u001b[1;32m[Msg] \u001b[0m\u001b[1;32mPublicized address: \u001b[0m\u001b[1;32m10.201.7.111\u001b[0m\u001b[1;32m\n",
      "\u001b[0m\u001b[1;32m\u001b[0m\u001b[1;32m[Msg] \u001b[0m\u001b[1;32mLoading world file [\u001b[0m\u001b[1;32m/home/eduardo/USVSim/yara_ws/devel/share/eboat_gazebo/worlds/ocean_RL_training.world\u001b[0m\u001b[1;32m]\u001b[0m\u001b[1;32m\n",
      "\u001b[0m\u001b[1;32m\u001b[0m\u001b[0m[ INFO] [1690211844.072726897]: waitForService: Service [/gazebo/set_physics_properties] is now available.\u001b[0m\n",
      "\u001b[0m[ INFO] [1690211844.089065062]: Physics dynamic reconfigure ready.\u001b[0m\n",
      "\u001b[1;32m[Msg] \u001b[0m\u001b[1;32mParameter found - setting <\u001b[0m\u001b[1;32mstatic\u001b[0m\u001b[1;32m> to <\u001b[0m\u001b[1;32m0\u001b[0m\u001b[1;32m>.\u001b[0m\u001b[1;32m\n",
      "\u001b[0m\u001b[1;32m\u001b[0m\u001b[1;32m[Msg] \u001b[0m\u001b[1;32mParameter found - setting <\u001b[0m\u001b[1;32mupdate_rate\u001b[0m\u001b[1;32m> to <\u001b[0m\u001b[1;32m30\u001b[0m\u001b[1;32m>.\u001b[0m\u001b[1;32m\n",
      "\u001b[0m\u001b[1;32m\u001b[0m\u001b[1;32m[Msg] \u001b[0m\u001b[1;32mParameter found - setting <\u001b[0m\u001b[1;32msize\u001b[0m\u001b[1;32m> to <\u001b[0m\u001b[1;32m1000\u001b[0m\u001b[1;32m \u001b[0m\u001b[1;32m1000\u001b[0m\u001b[1;32m>.\u001b[0m\u001b[1;32m\n",
      "\u001b[0m\u001b[1;32m\u001b[0m\u001b[1;32m[Msg] \u001b[0m\u001b[1;32mParameter found - setting <\u001b[0m\u001b[1;32mcell_count\u001b[0m\u001b[1;32m> to <\u001b[0m\u001b[1;32m50\u001b[0m\u001b[1;32m \u001b[0m\u001b[1;32m50\u001b[0m\u001b[1;32m>.\u001b[0m\u001b[1;32m\n",
      "\u001b[0m\u001b[1;32m\u001b[0m\u001b[1;32m[Msg] \u001b[0m\u001b[1;32mWavefieldEntity: Loading WaveParameters from SDF\u001b[0m\u001b[1;32m\n",
      "\u001b[0m\u001b[1;32m\u001b[0m"
     ]
    },
    {
     "name": "stderr",
     "output_type": "stream",
     "text": [
      "\u001b[1;33m[Wrn] [Wavefield.cc:279] \u001b[0m\u001b[1;33mWavefield model specified as <\u001b[0m\u001b[1;33m\u001b[0m\u001b[1;33m> which is not one of the two supported wavefield models: \u001b[0m\u001b[1;33mPMS or CWR!!!\u001b[0m\u001b[1;33m\n",
      "\u001b[0m\u001b[1;33m\u001b[0m"
     ]
    },
    {
     "name": "stdout",
     "output_type": "stream",
     "text": [
      "[INFO] [1690211844.339287]: wait_for_service(/gazebo/unpause_physics): finally were able to contact [rosrpc://Supernova-G15:59689]\n",
      "\u001b[1;32m[Msg] \u001b[0m\u001b[1;32mFound <wave> tag\u001b[0m\u001b[1;32m\n",
      "\u001b[0m\u001b[1;32m\u001b[0m\u001b[1;32m[Msg] \u001b[0m\u001b[1;32mParameter found - setting <\u001b[0m\u001b[1;32mmodel\u001b[0m\u001b[1;32m> to <\u001b[0m\u001b[1;32mPMS\u001b[0m\u001b[1;32m>.\u001b[0m\u001b[1;32m\n",
      "\u001b[0m\u001b[1;32m\u001b[0m\u001b[1;32m[Msg] \u001b[0m\u001b[1;32mParameter found - setting <\u001b[0m\u001b[1;32mnumber\u001b[0m\u001b[1;32m> to <\u001b[0m\u001b[1;32m3\u001b[0m\u001b[1;32m>.\u001b[0m\u001b[1;32m\n",
      "\u001b[0m\u001b[1;32m\u001b[0m\u001b[1;32m[Msg] \u001b[0m\u001b[1;32mParameter found - setting <\u001b[0m\u001b[1;32mamplitude\u001b[0m\u001b[1;32m> to <\u001b[0m\u001b[1;32m0\u001b[0m\u001b[1;32m>.\u001b[0m\u001b[1;32m\n",
      "\u001b[0m\u001b[1;32m\u001b[0m\u001b[1;32m[Msg] \u001b[0m\u001b[1;32mParameter found - setting <\u001b[0m\u001b[1;32mperiod\u001b[0m\u001b[1;32m> to <\u001b[0m\u001b[1;32m5\u001b[0m\u001b[1;32m>.\u001b[0m\u001b[1;32m\n",
      "\u001b[0m\u001b[1;32m\u001b[0m\u001b[1;32m[Msg] \u001b[0m\u001b[1;32mParameter <\u001b[0m\u001b[1;32mphase\u001b[0m\u001b[1;32m> not found: \u001b[0m\u001b[1;32mUsing default value of <\u001b[0m\u001b[1;32m0\u001b[0m\u001b[1;32m>.\u001b[0m\u001b[1;32m\n",
      "\u001b[0m\u001b[1;32m\u001b[0m\u001b[1;32m[Msg] \u001b[0m\u001b[1;32mParameter found - setting <\u001b[0m\u001b[1;32mdirection\u001b[0m\u001b[1;32m> to <\u001b[0m\u001b[1;32m1\u001b[0m\u001b[1;32m \u001b[0m\u001b[1;32m0\u001b[0m\u001b[1;32m>.\u001b[0m\u001b[1;32m\n",
      "\u001b[0m\u001b[1;32m\u001b[0m\u001b[1;32m[Msg] \u001b[0m\u001b[1;32mParameter found - setting <\u001b[0m\u001b[1;32mscale\u001b[0m\u001b[1;32m> to <\u001b[0m\u001b[1;32m1.1\u001b[0m\u001b[1;32m>.\u001b[0m\u001b[1;32m\n",
      "\u001b[0m\u001b[1;32m\u001b[0m\u001b[1;32m[Msg] \u001b[0m\u001b[1;32mParameter found - setting <\u001b[0m\u001b[1;32mangle\u001b[0m\u001b[1;32m> to <\u001b[0m\u001b[1;32m0.4\u001b[0m\u001b[1;32m>.\u001b[0m\u001b[1;32m\n",
      "\u001b[0m\u001b[1;32m\u001b[0m\u001b[1;32m[Msg] \u001b[0m\u001b[1;32mParameter found - setting <\u001b[0m\u001b[1;32msteepness\u001b[0m\u001b[1;32m> to <\u001b[0m\u001b[1;32m0\u001b[0m\u001b[1;32m>.\u001b[0m\u001b[1;32m\n",
      "\u001b[0m\u001b[1;32m\u001b[0m\u001b[1;32m[Msg] \u001b[0m\u001b[1;32mParameter found - setting <\u001b[0m\u001b[1;32mtau\u001b[0m\u001b[1;32m> to <\u001b[0m\u001b[1;32m2\u001b[0m\u001b[1;32m>.\u001b[0m\u001b[1;32m\n",
      "\u001b[0m\u001b[1;32m\u001b[0m\u001b[1;32m[Msg] \u001b[0m\u001b[1;32mParameter found - setting <\u001b[0m\u001b[1;32mgain\u001b[0m\u001b[1;32m> to <\u001b[0m\u001b[1;32m0.05\u001b[0m\u001b[1;32m>.\u001b[0m\u001b[1;32m\n",
      "\u001b[0m\u001b[1;32m\u001b[0m\u001b[1;32m[Msg] \u001b[0m\u001b[1;32mUsing Pierson-Moskowitz spectrum sampling wavefield model \u001b[0m\u001b[1;32m\n",
      "\u001b[0m\u001b[1;32m\u001b[0m\u001b[1;32m[Msg] \u001b[0m\u001b[1;32mInput Parameters:\u001b[0m\u001b[1;32m\n",
      "\u001b[0m\u001b[1;32m\u001b[0m\u001b[1;32m[Msg] \u001b[0m\u001b[1;32mmodel:     \u001b[0m\u001b[1;32mPMS\u001b[0m\u001b[1;32m\n",
      "\u001b[0m\u001b[1;32m\u001b[0m\u001b[1;32m[Msg] \u001b[0m\u001b[1;32mnumber:     \u001b[0m\u001b[1;32m3\u001b[0m\u001b[1;32m\n",
      "\u001b[0m\u001b[1;32m\u001b[0m\u001b[1;32m[Msg] \u001b[0m\u001b[1;32mscale:      \u001b[0m\u001b[1;32m1.1\u001b[0m\u001b[1;32m\n",
      "\u001b[0m\u001b[1;32m\u001b[0m\u001b[1;32m[Msg] \u001b[0m\u001b[1;32mangle:      \u001b[0m\u001b[1;32m0.4\u001b[0m\u001b[1;32m\n",
      "\u001b[0m\u001b[1;32m\u001b[0m\u001b[1;32m[Msg] \u001b[0m\u001b[1;32msteepness:  \u001b[0m\u001b[1;32m0\u001b[0m\u001b[1;32m\n",
      "\u001b[0m\u001b[1;32m\u001b[0m\u001b[1;32m[Msg] \u001b[0m\u001b[1;32mamplitude:  \u001b[0m\u001b[1;32m0\u001b[0m\u001b[1;32m\n",
      "\u001b[0m\u001b[1;32m\u001b[0m\u001b[1;32m[Msg] \u001b[0m\u001b[1;32mperiod:     \u001b[0m\u001b[1;32m5\u001b[0m\u001b[1;32m\n",
      "\u001b[0m\u001b[1;32m\u001b[0m\u001b[1;32m[Msg] \u001b[0m\u001b[1;32mdirection:  \u001b[0m\u001b[1;32m1\u001b[0m\u001b[1;32m \u001b[0m\u001b[1;32m0\u001b[0m\u001b[1;32m\n",
      "\u001b[0m\u001b[1;32m\u001b[0m\u001b[1;32m[Msg] \u001b[0m\u001b[1;32mtau:  \u001b[0m\u001b[1;32m2\u001b[0m\u001b[1;32m\n",
      "\u001b[0m\u001b[1;32m\u001b[0m\u001b[1;32m[Msg] \u001b[0m\u001b[1;32mgain:  \u001b[0m\u001b[1;32m0.05\u001b[0m\u001b[1;32m\n",
      "\u001b[0m\u001b[1;32m\u001b[0m\u001b[1;32m[Msg] \u001b[0m\u001b[1;32mDerived Parameters:\u001b[0m\u001b[1;32m\n",
      "\u001b[0m\u001b[1;32m\u001b[0m\u001b[1;32m[Msg] \u001b[0m\u001b[1;32mamplitudes:  \u001b[0m\u001b[1;32m0.00605837\u001b[0m\u001b[1;32m, \u001b[0m\u001b[1;32m0.00653794\u001b[0m\u001b[1;32m, \u001b[0m\u001b[1;32m0.00642839\u001b[0m\u001b[1;32m, \u001b[0m\u001b[1;32m\n",
      "\u001b[0m\u001b[1;32m\u001b[0m\u001b[1;32m[Msg] \u001b[0m\u001b[1;32mwavenumbers: \u001b[0m\u001b[1;32m0.133171\u001b[0m\u001b[1;32m, \u001b[0m\u001b[1;32m0.161136\u001b[0m\u001b[1;32m, \u001b[0m\u001b[1;32m0.194975\u001b[0m\u001b[1;32m, \u001b[0m\u001b[1;32m\n",
      "\u001b[0m\u001b[1;32m\u001b[0m\u001b[1;32m[Msg] \u001b[0m\u001b[1;32momegas:      \u001b[0m\u001b[1;32m1.1424\u001b[0m\u001b[1;32m, \u001b[0m\u001b[1;32m1.25664\u001b[0m\u001b[1;32m, \u001b[0m\u001b[1;32m1.3823\u001b[0m\u001b[1;32m, \u001b[0m\u001b[1;32m\n",
      "\u001b[0m\u001b[1;32m\u001b[0m\u001b[1;32m[Msg] \u001b[0m\u001b[1;32mperiods:     \u001b[0m\u001b[1;32m[Msg] \u001b[0m\u001b[1;32m5.5\u001b[0m\u001b[1;32m, \u001b[0m\u001b[1;32m[Msg] \u001b[0m\u001b[1;32m5\u001b[0m\u001b[1;32m, \u001b[0m\u001b[1;32m[Msg] \u001b[0m\u001b[1;32m4.54545\u001b[0m\u001b[1;32m, \u001b[0m\u001b[1;32m[Msg] \u001b[0m\u001b[1;32m\n",
      "\u001b[0m\u001b[1;32m\u001b[0m\u001b[1;32m[Msg] \u001b[0m\u001b[1;32mphases:      \u001b[0m\u001b[1;32m0\u001b[0m\u001b[1;32m, \u001b[0m\u001b[1;32m0\u001b[0m\u001b[1;32m, \u001b[0m\u001b[1;32m0\u001b[0m\u001b[1;32m, \u001b[0m\u001b[1;32m\n",
      "\u001b[0m\u001b[1;32m\u001b[0m\u001b[1;32m[Msg] \u001b[0m\u001b[1;32msteepnesses: \u001b[0m\u001b[1;32m0\u001b[0m\u001b[1;32m, \u001b[0m\u001b[1;32m0\u001b[0m\u001b[1;32m, \u001b[0m\u001b[1;32m0\u001b[0m\u001b[1;32m, \u001b[0m\u001b[1;32m\n",
      "\u001b[0m\u001b[1;32m\u001b[0m\u001b[1;32m[Msg] \u001b[0m\u001b[1;32mdirections:  \u001b[0m\u001b[1;32m[Msg] \u001b[0m\u001b[1;32m0.921061\u001b[0m\u001b[1;32m \u001b[0m\u001b[1;32m-0.389418\u001b[0m\u001b[1;32m; \u001b[0m\u001b[1;32m[Msg] \u001b[0m\u001b[1;32m1\u001b[0m\u001b[1;32m \u001b[0m\u001b[1;32m0\u001b[0m\u001b[1;32m; \u001b[0m\u001b[1;32m[Msg] \u001b[0m\u001b[1;32m0.921061\u001b[0m\u001b[1;32m \u001b[0m\u001b[1;32m0.389418\u001b[0m\u001b[1;32m; \u001b[0m\u001b[1;32m[Msg] \u001b[0m\u001b[1;32m\n",
      "\u001b[0m\u001b[1;32m\u001b[0m\u001b[0m[ INFO] [1690211844.359422249]: Parameter <kPP> not found: Using default value of <0>.\u001b[0m\n",
      "\u001b[0m[ INFO] [1690211844.359443186]: Parameter <mQQ> not found: UsingROS_MASTER_URI=http://localhost:14232\n",
      "\n",
      "GAZEBO_MASTER_URI=http://localhost:12795\n",
      "\n",
      "Gazebo launched!\n"
     ]
    },
    {
     "name": "stderr",
     "output_type": "stream",
     "text": [
      "../src/intel/isl/isl.c:2105: FINISHME: ../src/intel/isl/isl.c:isl_surf_supports_ccs: CCS for 3D textures is disabled, but a workaround is available.\n",
      "/home/eduardo/miniconda3/envs/yara_berry/lib/python3.10/site-packages/gymnasium/core.py:297: UserWarning: \u001b[33mWARN: env.reseed to get variables from other wrappers is deprecated and will be removed in v1.0, to get this variable you can do `env.unwrapped.reseed` for environment variables or `env.get_attr('reseed')` that will search the reminding wrappers.\u001b[0m\n",
      "  logger.warn(\n",
      "/home/eduardo/miniconda3/envs/yara_berry/lib/python3.10/site-packages/gymnasium/core.py:297: UserWarning: \u001b[33mWARN: env.seed to get variables from other wrappers is deprecated and will be removed in v1.0, to get this variable you can do `env.unwrapped.seed` for environment variables or `env.get_attr('seed')` that will search the reminding wrappers.\u001b[0m\n",
      "  logger.warn(\n",
      "/home/eduardo/miniconda3/envs/yara_berry/lib/python3.10/site-packages/gymnasium/utils/passive_env_checker.py:181: DeprecationWarning: \u001b[33mWARN: Current gymnasium version requires that `Env.reset` can be passed `options` to allow the environment initialisation to be passed additional information.\u001b[0m\n",
      "  logger.deprecation(\n",
      "/home/eduardo/miniconda3/envs/yara_berry/lib/python3.10/site-packages/gymnasium/utils/passive_env_checker.py:159: UserWarning: \u001b[33mWARN: The obs returned by the `reset()` method is not within the observation space.\u001b[0m\n",
      "  logger.warn(f\"{pre} is not within the observation space.\")\n",
      "/home/eduardo/miniconda3/envs/yara_berry/lib/python3.10/site-packages/gymnasium/envs/registration.py:481: UserWarning: \u001b[33mWARN: The environment creator metadata doesn't include `render_modes`, contains: ['render.modes']\u001b[0m\n",
      "  logger.warn(\n",
      "/home/eduardo/miniconda3/envs/yara_berry/lib/python3.10/site-packages/gymnasium/core.py:297: UserWarning: \u001b[33mWARN: env.reseed to get variables from other wrappers is deprecated and will be removed in v1.0, to get this variable you can do `env.unwrapped.reseed` for environment variables or `env.get_attr('reseed')` that will search the reminding wrappers.\u001b[0m\n",
      "  logger.warn(\n",
      "/home/eduardo/miniconda3/envs/yara_berry/lib/python3.10/site-packages/gymnasium/core.py:297: UserWarning: \u001b[33mWARN: env.seed to get variables from other wrappers is deprecated and will be removed in v1.0, to get this variable you can do `env.unwrapped.seed` for environment variables or `env.get_attr('seed')` that will search the reminding wrappers.\u001b[0m\n",
      "  logger.warn(\n",
      "/home/eduardo/miniconda3/envs/yara_berry/lib/python3.10/site-packages/gymnasium/utils/passive_env_checker.py:181: DeprecationWarning: \u001b[33mWARN: Current gymnasium version requires that `Env.reset` can be passed `options` to allow the environment initialisation to be passed additional information.\u001b[0m\n",
      "  logger.deprecation(\n",
      "/home/eduardo/miniconda3/envs/yara_berry/lib/python3.10/site-packages/gymnasium/utils/passive_env_checker.py:159: UserWarning: \u001b[33mWARN: The obs returned by the `reset()` method is not within the observation space.\u001b[0m\n",
      "  logger.warn(f\"{pre} is not within the observation space.\")\n",
      "/home/eduardo/miniconda3/envs/yara_berry/lib/python3.10/site-packages/gymnasium/core.py:297: UserWarning: \u001b[33mWARN: env.reseed to get variables from other wrappers is deprecated and will be removed in v1.0, to get this variable you can do `env.unwrapped.reseed` for environment variables or `env.get_attr('reseed')` that will search the reminding wrappers.\u001b[0m\n",
      "  logger.warn(\n",
      "/home/eduardo/miniconda3/envs/yara_berry/lib/python3.10/site-packages/gymnasium/core.py:297: UserWarning: \u001b[33mWARN: env.seed to get variables from other wrappers is deprecated and will be removed in v1.0, to get this variable you can do `env.unwrapped.seed` for environment variables or `env.get_attr('seed')` that will search the reminding wrappers.\u001b[0m\n",
      "  logger.warn(\n"
     ]
    },
    {
     "name": "stdout",
     "output_type": "stream",
     "text": [
      " default value of <0>.\u001b[0m\n",
      "\u001b[1;32m[Msg] \u001b[0m\u001b[1;32musv_gazebo_dynamics_plugin: waveParams is null. \u001b[0m\u001b[1;32m Trying to get wave parameters from ocean model\u001b[0m\u001b[1;32m\n",
      "\u001b[0m\u001b[1;32m\u001b[0m"
     ]
    },
    {
     "name": "stderr",
     "output_type": "stream",
     "text": [
      "\u001b[1;33m[Wrn] [Publisher.cc:135] \u001b[0m\u001b[1;33mQueue limit reached for topic \u001b[0m\u001b[1;33m/gazebo/ocean/physics/contacts\u001b[0m\u001b[1;33m, deleting message. \u001b[0m\u001b[1;33mThis warning is printed only once.\u001b[0m\u001b[1;33m\n",
      "\u001b[0m\u001b[1;33m\u001b[0m/home/eduardo/miniconda3/envs/yara_berry/lib/python3.10/site-packages/gymnasium/utils/passive_env_checker.py:159: UserWarning: \u001b[33mWARN: The obs returned by the `step()` method is not within the observation space.\u001b[0m\n",
      "  logger.warn(f\"{pre} is not within the observation space.\")\n",
      "\u001b[1;33m[Wrn] [Wavefield.cc:279] \u001b[0m\u001b[1;33mWavefield model specified as <\u001b[0m\u001b[1;33m\u001b[0m\u001b[1;33m> which is not one of the two supported wavefield models: \u001b[0m\u001b[1;33mPMS or CWR!!!\u001b[0m\u001b[1;33m\n",
      "\u001b[0m\u001b[1;33m\u001b[0m"
     ]
    },
    {
     "name": "stdout",
     "output_type": "stream",
     "text": [
      "\u001b[0m[ INFO] [1690211843.893153286]: Finished loading Gazebo ROS API Plugin.\u001b[0m\n",
      "\u001b[0m[ INFO] [1690211843.893876654]: waitForService: Service [/gazebo_gui/set_physics_properties] has not been advertised, waiting...\u001b[0m\n",
      "\u001b[1;32m[Msg] \u001b[0m\u001b[1;32mWaiting for master.\u001b[0m\u001b[1;32m\n",
      "\u001b[0m\u001b[1;32m\u001b[0m\u001b[1;32m[Msg] \u001b[0m\u001b[1;32mConnected to gazebo master @ \u001b[0m\u001b[1;32mhttp://127.0.0.1:14430\u001b[0m\u001b[1;32m\n",
      "\u001b[0m\u001b[1;32m\u001b[0m\u001b[1;32m[Msg] \u001b[0m\u001b[1;32mPublicized address: \u001b[0m\u001b[1;32m10.201.7.111\u001b[0m\u001b[1;32m\n",
      "\u001b[0m\u001b[1;32m\u001b[0m\u001b[1;32m[Msg] \u001b[0m\u001b[1;32mWavefieldVisualPlugin <\u001b[0m\u001b[1;32mocean_waves::ocean_waves_link::ocean_waves_visual\u001b[0m\u001b[1;32m>: Loading WaveParamaters from SDF\u001b[0m\u001b[1;32m\n",
      "\u001b[0m\u001b[1;32m\u001b[0m\u001b[1;32m[Msg] \u001b[0m\u001b[1;32mParameter <\u001b[0m\u001b[1;32mstatic\u001b[0m\u001b[1;32m> not found: \u001b[0m\u001b[1;32mUsing default value of <\u001b[0m\u001b[1;32m0\u001b[0m\u001b[1;32m>.\u001b[0m\u001b[1;32m\n",
      "\u001b[0m\u001b[1;32m\u001b[0m\u001b[1;32m[Msg] \u001b[0m\u001b[1;32mParameter found - setting <\u001b[0m\u001b[1;32menableRtt\u001b[0m\u001b[1;32m> to <\u001b[0m\u001b[1;32m1\u001b[0m\u001b[1;32m>.\u001b[0m\u001b[1;32m\n",
      "\u001b[0m\u001b[1;32m\u001b[0m\u001b[1;32m[Msg] \u001b[0m\u001b[1;32mParameter found - setting <\u001b[0m\u001b[1;32mrefractOpacity\u001b[0m\u001b[1;32m> to <\u001b[0m\u001b[1;32m0.2\u001b[0m\u001b[1;32m>.\u001b[0m\u001b[1;32m\n",
      "\u001b[0m\u001b[1;32m\u001b[0m\u001b[1;32m[Msg] \u001b[0m\u001b[1;32mParameter found - setting <\u001b[0m\u001b[1;32mreflectOpacity\u001b[0m\u001b[1;32m> to <\u001b[0m\u001b[1;32m0.2\u001b[0m\u001b[1;32m>.\u001b[0m\u001b[1;32m\n",
      "\u001b[0m\u001b[1;32m\u001b[0m\u001b[1;32m[Msg] \u001b[0m\u001b[1;32mParameter found - setting <\u001b[0m\u001b[1;32mrttNoise\u001b[0m\u001b[1;32m> to <\u001b[0m\u001b[1;32m0.1\u001b[0m\u001b[1;32m>.\u001b[0m\u001b[1;32m\n",
      "\u001b[0m\u001b[1;32m\u001b[0m"
     ]
    },
    {
     "name": "stderr",
     "output_type": "stream",
     "text": [
      "Gazebo multi-robot simulator, version 11.13.0\n",
      "Copyright (C) 2012 Open Source Robotics Foundation.\n",
      "Released under the Apache 2 License.\n",
      "http://gazebosim.org\n",
      "\n",
      "\u001b[1;33m[Wrn] [GuiIface.cc:200] \u001b[0m\u001b[1;33mg/gui-plugin is really loading a SystemPlugin. \u001b[0m\u001b[1;33mTo load a GUI plugin please use --gui-client-plugin \n",
      "\u001b[0mGazebo multi-robot simulator, version 11.13.0\n",
      "Copyright (C) 2012 Open Source Robotics Foundation.\n",
      "Released under the Apache 2 License.\n",
      "http://gazebosim.org\n",
      "\n",
      "\u001b[33m[ WARN] [1690211846.075392526, 221.310000000]: Shutdown request received.\u001b[0m\n",
      "\u001b[33m[ WARN] [1690211846.075562036, 221.310000000]: Reason given for shutdown: [[/gazebo] Reason: new node registered with same name]\u001b[0m\n",
      "\u001b[33m[ WARN] [1690211846.174785069, 221.310000000]: Shutdown request received.\u001b[0m\n",
      "\u001b[33m[ WARN] [1690211846.174879579, 221.310000000]: Reason given for shutdown: [[/gazebo_gui] Reason: new node registered with same name]\u001b[0m\n",
      "\u001b[1;33m[Wrn] [Wavefield.cc:279] \u001b[0m\u001b[1;33mWavefield model specified as <\u001b[0m\u001b[1;33m\u001b[0m\u001b[1;33m> which is not one of the two supported wavefield models: \u001b[0m\u001b[1;33mPMS or CWR!!!\u001b[0m\u001b[1;33m\n",
      "\u001b[0m\u001b[1;33m\u001b[0m"
     ]
    },
    {
     "name": "stdout",
     "output_type": "stream",
     "text": [
      "\u001b[0m[ INFO] [1690211846.013802936]: Finished loading Gazebo ROS API Plugin.\u001b[0m\n",
      "\u001b[0m[ INFO] [1690211846.015292568]: waitForService: Service [/gazebo/set_physics_properties] has not been advertised, waiting...\u001b[0m\n",
      "\u001b[1;32m[Msg] \u001b[0m\u001b[1;32mWaiting for master.\u001b[0m\u001b[1;32m\n",
      "\u001b[0m\u001b[1;32m\u001b[0m\u001b[1;32m[Msg] \u001b[0m\u001b[1;32mConnected to gazebo master @ \u001b[0m\u001b[1;32mhttp://127.0.0.1:12795\u001b[0m\u001b[1;32m\n",
      "\u001b[0m\u001b[1;32m\u001b[0m\u001b[1;32m[Msg] \u001b[0m\u001b[1;32mPublicized address: \u001b[0m\u001b[1;32m10.201.7.111\u001b[0m\u001b[1;32m\n",
      "\u001b[0m\u001b[1;32m\u001b[0m\u001b[1;32m[Msg] \u001b[0m\u001b[1;32mLoading world file [\u001b[0m\u001b[1;32m/home/eduardo/USVSim/yara_ws/devel/share/eboat_gazebo/worlds/ocean_RL_training.world\u001b[0m\u001b[1;32m]\u001b[0m\u001b[1;32m\n",
      "\u001b[0m\u001b[1;32m\u001b[0m\u001b[0m[ INFO] [1690211846.472429238]: waitForService: Service [/gazebo/set_physics_properties] is now available.\u001b[0m\n",
      "\u001b[1;32m[Msg] \u001b[0m\u001b[1;32mParameter found - setting <\u001b[0m\u001b[1;32mstatic\u001b[0m\u001b[1;32m> to <\u001b[0m\u001b[1;32m0\u001b[0m\u001b[1;32m>.\u001b[0m\u001b[1;32m\n",
      "\u001b[0m\u001b[1;32m\u001b[0m\u001b[1;32m[Msg] \u001b[0m\u001b[1;32mParameter found - setting <\u001b[0m\u001b[1;32mupdate_rate\u001b[0m\u001b[1;32m> to <\u001b[0m\u001b[1;32m30\u001b[0m\u001b[1;32m>.\u001b[0m\u001b[1;32m\n",
      "\u001b[0m\u001b[1;32m\u001b[0m\u001b[1;32m[Msg] \u001b[0m\u001b[1;32mParameter found - setting <\u001b[0m\u001b[1;32msize\u001b[0m\u001b[1;32m> to <\u001b[0m\u001b[1;32m1000\u001b[0m\u001b[1;32m \u001b[0m\u001b[1;32m1000\u001b[0m\u001b[1;32m>.\u001b[0m\u001b[1;32m\n",
      "\u001b[0m\u001b[1;32m\u001b[0m\u001b[1;32m[Msg] \u001b[0m\u001b[1;32mParameter found - setting <\u001b[0m\u001b[1;32mcell_count\u001b[0m\u001b[1;32m> to <\u001b[0m\u001b[1;32m50\u001b[0m\u001b[1;32m \u001b[0m\u001b[1;32m50\u001b[0m\u001b[1;32m>.\u001b[0m\u001b[1;32m\n",
      "\u001b[0m\u001b[1;32m\u001b[0m\u001b[1;32m[Msg] \u001b[0m\u001b[1;32mWavefieldEntity: Loading WaveParameters from SDF\u001b[0m\u001b[1;32m\n",
      "\u001b[0m\u001b[1;32m\u001b[0m"
     ]
    },
    {
     "name": "stderr",
     "output_type": "stream",
     "text": [
      "\u001b[1;33m[Wrn] [Publisher.cc:135] \u001b[0m\u001b[1;33mQueue limit reached for topic \u001b[0m\u001b[1;33m/gazebo/ocean/physics/contacts\u001b[0m\u001b[1;33m, deleting message. \u001b[0m\u001b[1;33mThis warning is printed only once.\u001b[0m\u001b[1;33m\n",
      "\u001b[0m\u001b[1;33m\u001b[0m[ERROR] [1690211846.771224, 158.410000]: Spawn service failed. Exiting.\n",
      "../src/intel/isl/isl.c:2105: FINISHME: ../src/intel/isl/isl.c:isl_surf_supports_ccs: CCS for 3D textures is disabled, but a workaround is available.\n"
     ]
    },
    {
     "name": "stdout",
     "output_type": "stream",
     "text": [
      "\u001b[1;32m[Msg] \u001b[0m\u001b[1;32mFound <wave> tag\u001b[0m\u001b[1;32m\n",
      "\u001b[0m\u001b[1;32m\u001b[0m\u001b[1;32m[Msg] \u001b[0m\u001b[1;32mParameter found - setting <\u001b[0m\u001b[1;32mmodel\u001b[0m\u001b[1;32m> to <\u001b[0m\u001b[1;32mPMS\u001b[0m\u001b[1;32m>.\u001b[0m\u001b[1;32m\n",
      "\u001b[0m\u001b[1;32m\u001b[0m\u001b[1;32m[Msg] \u001b[0m\u001b[1;32mParameter found - setting <\u001b[0m\u001b[1;32mnumber\u001b[0m\u001b[1;32m> to <\u001b[0m\u001b[1;32m3\u001b[0m\u001b[1;32m>.\u001b[0m\u001b[1;32m\n",
      "\u001b[0m\u001b[1;32m\u001b[0m\u001b[1;32m[Msg] \u001b[0m\u001b[1;32mParameter found - setting <\u001b[0m\u001b[1;32mamplitude\u001b[0m\u001b[1;32m> to <\u001b[0m\u001b[1;32m0\u001b[0m\u001b[1;32m>.\u001b[0m\u001b[1;32m\n",
      "\u001b[0m\u001b[1;32m\u001b[0m\u001b[1;32m[Msg] \u001b[0m\u001b[1;32mParameter found - setting <\u001b[0m\u001b[1;32mperiod\u001b[0m\u001b[1;32m> to <\u001b[0m\u001b[1;32m5\u001b[0m\u001b[1;32m>.\u001b[0m\u001b[1;32m\n",
      "\u001b[0m\u001b[1;32m\u001b[0m\u001b[1;32m[Msg] \u001b[0m\u001b[1;32mParameter <\u001b[0m\u001b[1;32mphase\u001b[0m\u001b[1;32m> not found: \u001b[0m\u001b[1;32mUsing default value of <\u001b[0m\u001b[1;32m0\u001b[0m\u001b[1;32m>.\u001b[0m\u001b[1;32m\n",
      "\u001b[0m\u001b[1;32m\u001b[0m\u001b[1;32m[Msg] \u001b[0m\u001b[1;32mParameter found - setting <\u001b[0m\u001b[1;32mdirection\u001b[0m\u001b[1;32m> to <\u001b[0m\u001b[1;32m1\u001b[0m\u001b[1;32m \u001b[0m\u001b[1;32m0\u001b[0m\u001b[1;32m>.\u001b[0m\u001b[1;32m\n",
      "\u001b[0m\u001b[1;32m\u001b[0m\u001b[1;32m[Msg] \u001b[0m\u001b[1;32mParameter found - setting <\u001b[0m\u001b[1;32mscale\u001b[0m\u001b[1;32m> to <\u001b[0m\u001b[1;32m1.1\u001b[0m\u001b[1;32m>.\u001b[0m\u001b[1;32m\n",
      "\u001b[0m\u001b[1;32m\u001b[0m\u001b[1;32m[Msg] \u001b[0m\u001b[1;32mParameter found - setting <\u001b[0m\u001b[1;32mangle\u001b[0m\u001b[1;32m> to <\u001b[0m\u001b[1;32m0.4\u001b[0m\u001b[1;32m>.\u001b[0m\u001b[1;32m\n",
      "\u001b[0m\u001b[1;32m\u001b[0m\u001b[1;32m[Msg] \u001b[0m\u001b[1;32mParameter found - setting <\u001b[0m\u001b[1;32msteepness\u001b[0m\u001b[1;32m> to <\u001b[0m\u001b[1;32m0\u001b[0m\u001b[1;32m>.\u001b[0m\u001b[1;32m\n",
      "\u001b[0m\u001b[1;32m\u001b[0m\u001b[1;32m[Msg] \u001b[0m\u001b[1;32mParameter found - setting <\u001b[0m\u001b[1;32mtau\u001b[0m\u001b[1;32m> to <\u001b[0m\u001b[1;32m2\u001b[0m\u001b[1;32m>.\u001b[0m\u001b[1;32m\n",
      "\u001b[0m\u001b[1;32m\u001b[0m\u001b[1;32m[Msg] \u001b[0m\u001b[1;32mParameter found - setting <\u001b[0m\u001b[1;32mgain\u001b[0m\u001b[1;32m> to <\u001b[0m\u001b[1;32m0.05\u001b[0m\u001b[1;32m>.\u001b[0m\u001b[1;32m\n",
      "\u001b[0m\u001b[1;32m\u001b[0m\u001b[1;32m[Msg] \u001b[0m\u001b[1;32mUsing Pierson-Moskowitz spectrum sampling wavefield model \u001b[0m\u001b[1;32m\n",
      "\u001b[0m\u001b[1;32m\u001b[0m\u001b[1;32m[Msg] \u001b[0m\u001b[1;32mInput Parameters:\u001b[0m\u001b[1;32m\n",
      "\u001b[0m\u001b[1;32m\u001b[0m\u001b[1;32m[Msg] \u001b[0m\u001b[1;32mmodel:     \u001b[0m\u001b[1;32mPMS\u001b[0m\u001b[1;32m\n",
      "\u001b[0m\u001b[1;32m\u001b[0m\u001b[1;32m[Msg] \u001b[0m\u001b[1;32mnumber:     \u001b[0m\u001b[1;32m3\u001b[0m\u001b[1;32m\n",
      "\u001b[0m\u001b[1;32m\u001b[0m\u001b[1;32m[Msg] \u001b[0m\u001b[1;32mscale:      \u001b[0m\u001b[1;32m1.1\u001b[0m\u001b[1;32m\n",
      "\u001b[0m\u001b[1;32m\u001b[0m\u001b[1;32m[Msg] \u001b[0m\u001b[1;32mangle:      \u001b[0m\u001b[1;32m0.4\u001b[0m\u001b[1;32m\n",
      "\u001b[0m\u001b[1;32m\u001b[0m\u001b[1;32m[Msg] \u001b[0m\u001b[1;32msteepness:  \u001b[0m\u001b[1;32m0\u001b[0m\u001b[1;32m\n",
      "\u001b[0m\u001b[1;32m\u001b[0m\u001b[1;32m[Msg] \u001b[0m\u001b[1;32mamplitude:  \u001b[0m\u001b[1;32m0\u001b[0m\u001b[1;32m\n",
      "\u001b[0m\u001b[1;32m\u001b[0m\u001b[1;32m[Msg] \u001b[0m\u001b[1;32mperiod:     \u001b[0m\u001b[1;32m5\u001b[0m\u001b[1;32m\n",
      "\u001b[0m\u001b[1;32m\u001b[0m\u001b[1;32m[Msg] \u001b[0m\u001b[1;32mdirection:  \u001b[0m\u001b[1;32m1\u001b[0m\u001b[1;32m \u001b[0m\u001b[1;32m0\u001b[0m\u001b[1;32m\n",
      "\u001b[0m\u001b[1;32m\u001b[0m\u001b[1;32m[Msg] \u001b[0m\u001b[1;32mtau:  \u001b[0m\u001b[1;32m2\u001b[0m\u001b[1;32m\n",
      "\u001b[0m\u001b[1;32m\u001b[0m\u001b[1;32m[Msg] \u001b[0m\u001b[1;32mgain:  \u001b[0m\u001b[1;32m0.05\u001b[0m\u001b[1;32m\n",
      "\u001b[0m\u001b[1;32m\u001b[0m\u001b[1;32m[Msg] \u001b[0m\u001b[1;32mDerived Parameters:\u001b[0m\u001b[1;32m\n",
      "\u001b[0m\u001b[1;32m\u001b[0m\u001b[1;32m[Msg] \u001b[0m\u001b[1;32mamplitudes:  \u001b[0m\u001b[1;32m0.00605837\u001b[0m\u001b[1;32m, \u001b[0m\u001b[1;32m0.00653794\u001b[0m\u001b[1;32m, \u001b[0m\u001b[1;32m0.00642839\u001b[0m\u001b[1;32m, \u001b[0m\u001b[1;32m\n",
      "\u001b[0m\u001b[1;32m\u001b[0m\u001b[1;32m[Msg] \u001b[0m\u001b[1;32mwavenumbers: \u001b[0m\u001b[1;32m0.133171\u001b[0m\u001b[1;32m, \u001b[0m\u001b[1;32m0.161136\u001b[0m\u001b[1;32m, \u001b[0m\u001b[1;32m0.194975\u001b[0m\u001b[1;32m, \u001b[0m\u001b[1;32m\n",
      "\u001b[0m\u001b[1;32m\u001b[0m\u001b[1;32m[Msg] \u001b[0m\u001b[1;32momegas:      \u001b[0m\u001b[1;32m1.1424\u001b[0m\u001b[1;32m, \u001b[0m\u001b[1;32m1.25664\u001b[0m\u001b[1;32m, \u001b[0m\u001b[1;32m1.3823\u001b[0m\u001b[1;32m, \u001b[0m\u001b[1;32m\n",
      "\u001b[0m\u001b[1;32m\u001b[0m\u001b[1;32m[Msg] \u001b[0m\u001b[1;32mperiods:     \u001b[0m\u001b[1;32m[Msg] \u001b[0m\u001b[1;32m5.5\u001b[0m\u001b[1;32m, \u001b[0m\u001b[1;32m[Msg] \u001b[0m\u001b[1;32m5\u001b[0m\u001b[1;32m, \u001b[0m\u001b[1;32m[Msg] \u001b[0m\u001b[1;32m4.54545\u001b[0m\u001b[1;32m, \u001b[0m\u001b[1;32m[Msg] \u001b[0m\u001b[1;32m\n",
      "\u001b[0m\u001b[1;32m\u001b[0m\u001b[1;32m[Msg] \u001b[0m\u001b[1;32mphases:      \u001b[0m\u001b[1;32m0\u001b[0m\u001b[1;32m, \u001b[0m\u001b[1;32m0\u001b[0m\u001b[1;32m, \u001b[0m\u001b[1;32m0\u001b[0m\u001b[1;32m, \u001b[0m\u001b[1;32m\n",
      "\u001b[0m\u001b[1;32m\u001b[0m\u001b[1;32m[Msg] \u001b[0m\u001b[1;32msteepnesses: \u001b[0m\u001b[1;32m0\u001b[0m\u001b[1;32m, \u001b[0m\u001b[1;32m0\u001b[0m\u001b[1;32m, \u001b[0m\u001b[1;32m0\u001b[0m\u001b[1;32m, \u001b[0m\u001b[1;32m\n",
      "\u001b[0m\u001b[1;32m\u001b[0m\u001b[1;32m[Msg] \u001b[0m\u001b[1;32mdirections:  \u001b[0m\u001b[1;32m[Msg] \u001b[0m\u001b[1;32m0.921061\u001b[0m\u001b[1;32m \u001b[0m\u001b[1;32m-0.389418\u001b[0m\u001b[1;32m; \u001b[0m\u001b[1;32m[Msg] \u001b[0m\u001b[1;32m1\u001b[0m\u001b[1;32m \u001b[0m\u001b[1;32m0\u001b[0m\u001b[1;32m; \u001b[0m\u001b[1;32m[Msg] \u001b[0m\u001b[1;32m0.921061\u001b[0m\u001b[1;32m \u001b[0m\u001b[1;32m0.389418\u001b[0m\u001b[1;32m; \u001b[0m\u001b[1;32m[Msg] \u001b[0m\u001b[1;32m\n",
      "\u001b[0m\u001b[1;32m\u001b[0m\u001b[0m[ INFO] [1690211846.493752152]: Physics dynamic reconfigure ready.\u001b[0m\n"
     ]
    },
    {
     "name": "stderr",
     "output_type": "stream",
     "text": [
      "\u001b[31m[spawn_urdf-3] process has died [pid 2541119, exit code 1, cmd /opt/ros/noetic/lib/gazebo_ros/spawn_model -urdf -param robot_description -model eboat __name:=spawn_urdf __log:=/home/eduardo/.ros/log/301de87a-2a35-11ee-baa5-f42679bfb63e/spawn_urdf-3.log].\n",
      "log file: /home/eduardo/.ros/log/301de87a-2a35-11ee-baa5-f42679bfb63e/spawn_urdf-3*.log\u001b[0m\n",
      "\u001b[1;33m[Wrn] [Publisher.cc:135] \u001b[0m\u001b[1;33mQueue limit reached for topic \u001b[0m\u001b[1;33m/gazebo/ocean/user_camera/pose\u001b[0m\u001b[1;33m, deleting message. \u001b[0m\u001b[1;33mThis warning is printed only once.\u001b[0m\u001b[1;33m\n",
      "\u001b[0m\u001b[1;33m\u001b[0m"
     ]
    },
    {
     "name": "stdout",
     "output_type": "stream",
     "text": [
      "\u001b[1;32m[Msg] \u001b[0m\u001b[1;32mFound <wave> tag\u001b[0m\u001b[1;32m\n",
      "\u001b[0m\u001b[1;32m\u001b[0m\u001b[1;32m[Msg] \u001b[0m\u001b[1;32mParameter found - setting <\u001b[0m\u001b[1;32mmodel\u001b[0m\u001b[1;32m> to <\u001b[0m\u001b[1;32mPMS\u001b[0m\u001b[1;32m>.\u001b[0m\u001b[1;32m\n",
      "\u001b[0m\u001b[1;32m\u001b[0m\u001b[1;32m[Msg] \u001b[0m\u001b[1;32mParameter found - setting <\u001b[0m\u001b[1;32mnumber\u001b[0m\u001b[1;32m> to <\u001b[0m\u001b[1;32m3\u001b[0m\u001b[1;32m>.\u001b[0m\u001b[1;32m\n",
      "\u001b[0m\u001b[1;32m\u001b[0m\u001b[1;32m[Msg] \u001b[0m\u001b[1;32mParameter found - setting <\u001b[0m\u001b[1;32mamplitude\u001b[0m\u001b[1;32m> to <\u001b[0m\u001b[1;32m0\u001b[0m\u001b[1;32m>.\u001b[0m\u001b[1;32m\n",
      "\u001b[0m\u001b[1;32m\u001b[0m\u001b[1;32m[Msg] \u001b[0m\u001b[1;32mParameter found - setting <\u001b[0m\u001b[1;32mperiod\u001b[0m\u001b[1;32m> to <\u001b[0m\u001b[1;32m5\u001b[0m\u001b[1;32m>.\u001b[0m\u001b[1;32m\n",
      "\u001b[0m\u001b[1;32m\u001b[0m\u001b[1;32m[Msg] \u001b[0m\u001b[1;32mParameter <\u001b[0m\u001b[1;32mphase\u001b[0m\u001b[1;32m> not found: \u001b[0m\u001b[1;32mUsing default value of <\u001b[0m\u001b[1;32m0\u001b[0m\u001b[1;32m>.\u001b[0m\u001b[1;32m\n",
      "\u001b[0m\u001b[1;32m\u001b[0m\u001b[1;32m[Msg] \u001b[0m\u001b[1;32mParameter found - setting <\u001b[0m\u001b[1;32mdirection\u001b[0m\u001b[1;32m> to <\u001b[0m\u001b[1;32m1\u001b[0m\u001b[1;32m \u001b[0m\u001b[1;32m0\u001b[0m\u001b[1;32m>.\u001b[0m\u001b[1;32m\n",
      "\u001b[0m\u001b[1;32m\u001b[0m\u001b[1;32m[Msg] \u001b[0m\u001b[1;32mParameter found - setting <\u001b[0m\u001b[1;32mscale\u001b[0m\u001b[1;32m> to <\u001b[0m\u001b[1;32m1.1\u001b[0m\u001b[1;32m>.\u001b[0m\u001b[1;32m\n",
      "\u001b[0m\u001b[1;32m\u001b[0m\u001b[1;32m[Msg] \u001b[0m\u001b[1;32mParameter found - setting <\u001b[0m\u001b[1;32mangle\u001b[0m\u001b[1;32m> to <\u001b[0m\u001b[1;32m0.4\u001b[0m\u001b[1;32m>.\u001b[0m\u001b[1;32m\n",
      "\u001b[0m\u001b[1;32m\u001b[0m\u001b[1;32m[Msg] \u001b[0m\u001b[1;32mParameter found - setting <\u001b[0m\u001b[1;32msteepness\u001b[0m\u001b[1;32m> to <\u001b[0m\u001b[1;32m0\u001b[0m\u001b[1;32m>.\u001b[0m\u001b[1;32m\n",
      "\u001b[0m\u001b[1;32m\u001b[0m\u001b[1;32m[Msg] \u001b[0m\u001b[1;32mParameter found - setting <\u001b[0m\u001b[1;32mtau\u001b[0m\u001b[1;32m> to <\u001b[0m\u001b[1;32m2\u001b[0m\u001b[1;32m>.\u001b[0m\u001b[1;32m\n",
      "\u001b[0m\u001b[1;32m\u001b[0m\u001b[1;32m[Msg] \u001b[0m\u001b[1;32mParameter found - setting <\u001b[0m\u001b[1;32mgain\u001b[0m\u001b[1;32m> to <\u001b[0m\u001b[1;32m0.05\u001b[0m\u001b[1;32m>.\u001b[0m\u001b[1;32m\n",
      "\u001b[0m\u001b[1;32m\u001b[0m\u001b[1;32m[Msg] \u001b[0m\u001b[1;32mUsing Pierson-Moskowitz spectrum sampling wavefield model \u001b[0m\u001b[1;32m\n",
      "\u001b[0m\u001b[1;32m\u001b[0m\u001b[1;32m[Msg] \u001b[0m\u001b[1;32mInput Parameters:\u001b[0m\u001b[1;32m\n",
      "\u001b[0m\u001b[1;32m\u001b[0m\u001b[1;32m[Msg] \u001b[0m\u001b[1;32mmodel:     \u001b[0m\u001b[1;32mPMS\u001b[0m\u001b[1;32m\n",
      "\u001b[0m\u001b[1;32m\u001b[0m\u001b[1;32m[Msg] \u001b[0m\u001b[1;32mnumber:     \u001b[0m\u001b[1;32m3\u001b[0m\u001b[1;32m\n",
      "\u001b[0m\u001b[1;32m\u001b[0m\u001b[1;32m[Msg] \u001b[0m\u001b[1;32mscale:      \u001b[0m\u001b[1;32m1.1\u001b[0m\u001b[1;32m\n",
      "\u001b[0m\u001b[1;32m\u001b[0m\u001b[1;32m[Msg] \u001b[0m\u001b[1;32mangle:      \u001b[0m\u001b[1;32m0.4\u001b[0m\u001b[1;32m\n",
      "\u001b[0m\u001b[1;32m\u001b[0m\u001b[1;32m[Msg] \u001b[0m\u001b[1;32msteepness:  \u001b[0m\u001b[1;32m0\u001b[0m\u001b[1;32m\n",
      "\u001b[0m\u001b[1;32m\u001b[0m\u001b[1;32m[Msg] \u001b[0m\u001b[1;32mamplitude:  \u001b[0m\u001b[1;32m0\u001b[0m\u001b[1;32m\n",
      "\u001b[0m\u001b[1;32m\u001b[0m\u001b[1;32m[Msg] \u001b[0m\u001b[1;32mperiod:     \u001b[0m\u001b[1;32m5\u001b[0m\u001b[1;32m\n",
      "\u001b[0m\u001b[1;32m\u001b[0m\u001b[1;32m[Msg] \u001b[0m\u001b[1;32mdirection:  \u001b[0m\u001b[1;32m1\u001b[0m\u001b[1;32m \u001b[0m\u001b[1;32m0\u001b[0m\u001b[1;32m\n",
      "\u001b[0m\u001b[1;32m\u001b[0m\u001b[1;32m[Msg] \u001b[0m\u001b[1;32mtau:  \u001b[0m\u001b[1;32m2\u001b[0m\u001b[1;32m\n",
      "\u001b[0m\u001b[1;32m\u001b[0m\u001b[1;32m[Msg] \u001b[0m\u001b[1;32mgain:  \u001b[0m\u001b[1;32m0.05\u001b[0m\u001b[1;32m\n",
      "\u001b[0m\u001b[1;32m\u001b[0m\u001b[1;32m[Msg] \u001b[0m\u001b[1;32mDerived Parameters:\u001b[0m\u001b[1;32m\n",
      "\u001b[0m\u001b[1;32m\u001b[0m\u001b[1;32m[Msg] \u001b[0m\u001b[1;32mamplitudes:  \u001b[0m\u001b[1;32m0.00605837\u001b[0m\u001b[1;32m, \u001b[0m\u001b[1;32m0.00653794\u001b[0m\u001b[1;32m, \u001b[0m\u001b[1;32m0.00642839\u001b[0m\u001b[1;32m, \u001b[0m\u001b[1;32m\n",
      "\u001b[0m\u001b[1;32m\u001b[0m\u001b[1;32m[Msg] \u001b[0m\u001b[1;32mwavenumbers: \u001b[0m\u001b[1;32m0.133171\u001b[0m\u001b[1;32m, \u001b[0m\u001b[1;32m0.161136\u001b[0m\u001b[1;32m, \u001b[0m\u001b[1;32m0.194975\u001b[0m\u001b[1;32m, \u001b[0m\u001b[1;32m\n",
      "\u001b[0m\u001b[1;32m\u001b[0m\u001b[1;32m[Msg] \u001b[0m\u001b[1;32momegas:      \u001b[0m\u001b[1;32m1.1424\u001b[0m\u001b[1;32m, \u001b[0m\u001b[1;32m1.25664\u001b[0m\u001b[1;32m, \u001b[0m\u001b[1;32m1.3823\u001b[0m\u001b[1;32m, \u001b[0m\u001b[1;32m\n",
      "\u001b[0m\u001b[1;32m\u001b[0m\u001b[1;32m[Msg] \u001b[0m\u001b[1;32mperiods:     \u001b[0m\u001b[1;32m[Msg] \u001b[0m\u001b[1;32m5.5\u001b[0m\u001b[1;32m, \u001b[0m\u001b[1;32m[Msg] \u001b[0m\u001b[1;32m5\u001b[0m\u001b[1;32m, \u001b[0m\u001b[1;32m[Msg] \u001b[0m\u001b[1;32m4.54545\u001b[0m\u001b[1;32m, \u001b[0m\u001b[1;32m[Msg] \u001b[0m\u001b[1;32m\n",
      "\u001b[0m\u001b[1;32m\u001b[0m\u001b[1;32m[Msg] \u001b[0m\u001b[1;32mphases:      \u001b[0m\u001b[1;32m0\u001b[0m\u001b[1;32m, \u001b[0m\u001b[1;32m0\u001b[0m\u001b[1;32m, \u001b[0m\u001b[1;32m0\u001b[0m\u001b[1;32m, \u001b[0m\u001b[1;32m\n",
      "\u001b[0m\u001b[1;32m\u001b[0m\u001b[1;32m[Msg] \u001b[0m\u001b[1;32msteepnesses: \u001b[0m\u001b[1;32m0\u001b[0m\u001b[1;32m, \u001b[0m\u001b[1;32m0\u001b[0m\u001b[1;32m, \u001b[0m\u001b[1;32m0\u001b[0m\u001b[1;32m, \u001b[0m\u001b[1;32m\n",
      "\u001b[0m\u001b[1;32m\u001b[0m\u001b[1;32m[Msg] \u001b[0m\u001b[1;32mdirections:  \u001b[0m\u001b[1;32m[Msg] \u001b[0m\u001b[1;32m0.921061\u001b[0m\u001b[1;32m \u001b[0m\u001b[1;32m-0.389418\u001b[0m\u001b[1;32m; \u001b[0m\u001b[1;32m[Msg] \u001b[0m\u001b[1;32m1\u001b[0m\u001b[1;32m \u001b[0m\u001b[1;32m0\u001b[0m\u001b[1;32m; \u001b[0m\u001b[1;32m[Msg] \u001b[0m\u001b[1;32m0.921061\u001b[0m\u001b[1;32m \u001b[0m\u001b[1;32m0.389418\u001b[0m\u001b[1;32m; \u001b[0m\u001b[1;32m[Msg] \u001b[0m\u001b[1;32m\n",
      "\u001b[0m\u001b[1;32m\u001b[0m\u001b[0m[ INFO] [1690211846.096452050]: Finished loading Gazebo ROS API Plugin.\u001b[0m\n",
      "\u001b[0m[ INFO] [1690211846.097320252]: waitForService: Service [/gazebo_gui/set_physics_properties] has not been advertised, waiting...\u001b[0m\n",
      "\u001b[1;32m[Msg] \u001b[0m\u001b[1;32mWaiting for master.\u001b[0m\u001b[1;32m\n",
      "\u001b[0m\u001b[1;32m\u001b[0m\u001b[1;32m[Msg] \u001b[0m\u001b[1;32mConnected to gazebo master @ \u001b[0m\u001b[1;32mhttp://127.0.0.1:12795\u001b[0m\u001b[1;32m\n",
      "\u001b[0m\u001b[1;32m\u001b[0m\u001b[1;32m[Msg] \u001b[0m\u001b[1;32mPublicized address: \u001b[0m\u001b[1;32m10.201.7.111\u001b[0m\u001b[1;32m\n",
      "\u001b[0m\u001b[1;32m\u001b[0m\u001b[1;32m[Msg] \u001b[0m\u001b[1;32mWavefieldVisualPlugin <\u001b[0m\u001b[1;32mocean_waves::ocean_waves_link::ocean_waves_visual\u001b[0m\u001b[1;32m>: Loading WaveParamaters from SDF\u001b[0m\u001b[1;32m\n",
      "\u001b[0m\u001b[1;32m\u001b[0m\u001b[1;32m[Msg] \u001b[0m\u001b[1;32mParameter <\u001b[0m\u001b[1;32mstatic\u001b[0m\u001b[1;32m> not found: \u001b[0m\u001b[1;32mUsing default value of <\u001b[0m\u001b[1;32m0\u001b[0m\u001b[1;32m>.\u001b[0m\u001b[1;32m\n",
      "\u001b[0m\u001b[1;32m\u001b[0m\u001b[1;32m[Msg] \u001b[0m\u001b[1;32mParameter found - setting <\u001b[0m\u001b[1;32menableRtt\u001b[0m\u001b[1;32m> to <\u001b[0m\u001b[1;32m1\u001b[0m\u001b[1;32m>.\u001b[0m\u001b[1;32m\n",
      "\u001b[0m\u001b[1;32m\u001b[0m\u001b[1;32m[Msg] \u001b[0m\u001b[1;32mParameter found - setting <\u001b[0m\u001b[1;32mrefractOpacity\u001b[0m\u001b[1;32m> to <\u001b[0m\u001b[1;32m0.2\u001b[0m\u001b[1;32m>.\u001b[0m\u001b[1;32m\n",
      "\u001b[0m\u001b[1;32m\u001b[0m\u001b[1;32m[Msg] \u001b[0m\u001b[1;32mParameter found - setting <\u001b[0m\u001b[1;32mreflectOpacity\u001b[0m\u001b[1;32m> to <\u001b[0m\u001b[1;32m0.2\u001b[0m\u001b[1;32m>.\u001b[0m\u001b[1;32m\n",
      "\u001b[0m\u001b[1;32m\u001b[0m\u001b[1;32m[Msg] \u001b[0m\u001b[1;32mParameter found - setting <\u001b[0m\u001b[1;32mrttNoise\u001b[0m\u001b[1;32m> to <\u001b[0m\u001b[1;32m0.1\u001b[0m\u001b[1;32m>.\u001b[0m\u001b[1;32m\n",
      "\u001b[0m\u001b[1;32m\u001b[0m"
     ]
    },
    {
     "name": "stderr",
     "output_type": "stream",
     "text": [
      "\u001b[1;33m[Wrn] [Wavefield.cc:279] \u001b[0m\u001b[1;33mWavefield model specified as <\u001b[0m\u001b[1;33m\u001b[0m\u001b[1;33m> which is not one of the two supported wavefield models: \u001b[0m\u001b[1;33mPMS or CWR!!!\u001b[0m\u001b[1;33m\n",
      "\u001b[0m\u001b[1;33m\u001b[0m\u001b[38;21m[INFO] 17:17:        agent_name  worker  fit/policy_loss  max_global_step\n",
      "                    PPO default    0         -0.001            512 \u001b[0m\n",
      "\u001b[38;21m[INFO] 17:17: [PPO default[worker: 0]] | max_global_step = 1024 | fit/policy_loss = -0.0013184919953346252 | fit/value_loss = 4.18795934820082e-06 | fit/entropy_loss = 2.840693950653076 | fit/approx_kl = 0.00015907734632492065 | fit/clipfrac = 0.0 | fit/explained_variance = -0.04314422607421875 | fit/learning_rate = 0.0003 |  \u001b[0m\n",
      "\u001b[38;21m[INFO] 17:18: [PPO default[worker: 0]] | max_global_step = 1536 | fit/policy_loss = -0.003997966647148132 | fit/value_loss = 3.008239218615927e-06 | fit/entropy_loss = 2.8402199745178223 | fit/approx_kl = 0.00018993206322193146 | fit/clipfrac = 0.0 | fit/explained_variance = 0.05583357810974121 | fit/learning_rate = 0.0003 |  \u001b[0m\n",
      "\u001b[38;21m[INFO] 17:18: [PPO default[worker: 0]] | max_global_step = 2048 | fit/policy_loss = -0.03192225098609924 | fit/value_loss = 4.6492714318446815e-06 | fit/entropy_loss = 2.8364429473876953 | fit/approx_kl = 0.00058746337890625 | fit/clipfrac = 0.0 | fit/explained_variance = 0.06499069929122925 | fit/learning_rate = 0.0003 |  \u001b[0m\n",
      "\u001b[38;21m[INFO] 17:18: [PPO default[worker: 0]] | max_global_step = 2560 | fit/policy_loss = 0.01449141651391983 | fit/value_loss = 2.5109691250690958e-06 | fit/entropy_loss = 2.836439847946167 | fit/approx_kl = 0.011242196895182133 | fit/clipfrac = 0.042578125 | fit/explained_variance = 0.06949639320373535 | fit/learning_rate = 0.0003 |  \u001b[0m\n",
      "\u001b[38;21m[INFO] 17:18: [PPO default[worker: 0]] | max_global_step = 3072 | fit/policy_loss = -0.009695999324321747 | fit/value_loss = 1.5871189589233836e-06 | fit/entropy_loss = 2.8365478515625 | fit/approx_kl = 0.008428694680333138 | fit/clipfrac = 0.0529296875 | fit/explained_variance = 0.11905300617218018 | fit/learning_rate = 0.0003 |  \u001b[0m\n",
      "\n",
      "ODE Message 3: LCP internal error, s <= 0 (s=-3.0544e-04)\n"
     ]
    },
    {
     "name": "stdout",
     "output_type": "stream",
     "text": [
      "\u001b[0m[ INFO] [1690211846.907745248, 228.020000000]: Parameter <kPP> not found: Using default value of <0>.\u001b[0m\n",
      "\u001b[0m[ INFO] [1690211846.907832576, 228.020000000]: Parameter <mQQ> not found: Using default value of <0>.\u001b[0m\n",
      "\u001b[1;32m[Msg] \u001b[0m\u001b[1;32musv_gazebo_dynamics_plugin: waveParams is null. \u001b[0m\u001b[1;32m Trying to get wave parameters from ocean model\u001b[0m\u001b[1;32m\n",
      "\u001b[0m\u001b[1;32m\u001b[0m"
     ]
    },
    {
     "name": "stderr",
     "output_type": "stream",
     "text": [
      "\u001b[38;21m[INFO] 17:19: [PPO default[worker: 0]] | max_global_step = 3584 | fit/policy_loss = 0.0013351663947105408 | fit/value_loss = 5.325649681253708e-07 | fit/entropy_loss = 2.845702648162842 | fit/approx_kl = 0.006609758362174034 | fit/clipfrac = 0.0404296875 | fit/explained_variance = 0.12748336791992188 | fit/learning_rate = 0.0003 |  \u001b[0m\n",
      "\u001b[31m[gazebo-1] process has died [pid 2541106, exit code -9, cmd /opt/ros/noetic/lib/gazebo_ros/gzserver -u --verbose -e ode /home/eduardo/USVSim/yara_ws/devel/share/eboat_gazebo/worlds/ocean_RL_training.world __name:=gazebo __log:=/home/eduardo/.ros/log/301de87a-2a35-11ee-baa5-f42679bfb63e/gazebo-1.log].\n",
      "log file: /home/eduardo/.ros/log/301de87a-2a35-11ee-baa5-f42679bfb63e/gazebo-1*.log\u001b[0m\n",
      "\u001b[31m[gazebo_gui-2] process has died [pid 2541113, exit code -9, cmd /opt/ros/noetic/lib/gazebo_ros/gzclient --verbose __name:=gazebo_gui __log:=/home/eduardo/.ros/log/301de87a-2a35-11ee-baa5-f42679bfb63e/gazebo_gui-2.log].\n",
      "log file: /home/eduardo/.ros/log/301de87a-2a35-11ee-baa5-f42679bfb63e/gazebo_gui-2*.log\u001b[0m\n",
      "\u001b[31m================================================================================REQUIRED process [master] has died!\n",
      "process has died [pid 2540477, exit code -9, cmd rosmaster --core -p 14232 -w 3 __log:=/home/eduardo/.ros/log/301de87a-2a35-11ee-baa5-f42679bfb63e/master.log].\n",
      "log file: /home/eduardo/.ros/log/301de87a-2a35-11ee-baa5-f42679bfb63e/master*.log\n",
      "Initiating shutdown!\n",
      "================================================================================\u001b[0m\n"
     ]
    },
    {
     "name": "stdout",
     "output_type": "stream",
     "text": [
      "... logging to /home/eduardo/.ros/log/301de87a-2a35-11ee-baa5-f42679bfb63e/roslaunch-Supernova-G15-2540773.log\n",
      "Checking log directory for disk usage. This may take a while.\n",
      "Press Ctrl-C to interrupt\n",
      "Done checking log file disk usage. Usage is <1GB.\n",
      "\u001b]2;/home/eduardo/USVSim/yara_ws/src/Yara_OVE/eboat_gazebo/launch/ocean_RL_training.launch\u0007\n",
      "\u001b[1mstarted roslaunch server http://Supernova-G15:44069/\u001b[0m\n",
      "\n",
      "SUMMARY\n",
      "========\n",
      "\n",
      "PARAMETERS\n",
      " * /gazebo/enable_ros_network: True\n",
      " * /robot_description: <?xml version=\"1....\n",
      " * /rosdistro: noetic\n",
      " * /rosversion: 1.16.0\n",
      " * /use_sim_time: True\n",
      "\n",
      "NODES\n",
      "  /\n",
      "    gazebo (gazebo_ros/gzserver)\n",
      "    gazebo_gui (gazebo_ros/gzclient)\n",
      "    spawn_urdf (gazebo_ros/spawn_model)\n",
      "\n",
      "\u001b[1mROS_MASTER_URI=http://Supernova-G15:14232/\u001b[0m\n",
      "\u001b]2;/home/eduardo/USVSim/yara_ws/src/Yara_OVE/eboat_gazebo/launch/ocean_RL_training.launch http://Supernova-G15:14232/\u0007\n",
      "\u001b[1mprocess[gazebo-1]: started with pid [2541106]\u001b[0m\n",
      "\u001b[1mprocess[gazebo_gui-2]: started with pid [2541113]\u001b[0m\n",
      "\u001b[1mprocess[spawn_urdf-3]: started with pid [2541119]\u001b[0m\n",
      "all processes on machine have died, roslaunch will exit\n",
      "shutting down processing monitor...\n",
      "... shutting down processing monitor complete\n",
      "\u001b[1mdone\u001b[0m\n",
      "... logging to /home/eduardo/.ros/log/301de87a-2a35-11ee-baa5-f42679bfb63e/roslaunch-Supernova-G15-2540468.log\n",
      "Checking log directory for disk usage. This may take a while.\n",
      "Press Ctrl-C to interrupt\n",
      "Done checking log file disk usage. Usage is <1GB.\n",
      "\u001b]2;/home/eduardo/USVSim/yara_ws/src/Yara_OVE/eboat_gazebo/launch/ocean_RL_training.launch\u0007\n",
      "\u001b[1mstarted roslaunch server http://Supernova-G15:37705/\u001b[0m\n",
      "\n",
      "SUMMARY\n",
      "========\n",
      "\n",
      "PARAMETERS\n",
      " * /gazebo/enable_ros_network: True\n",
      " * /robot_description: <?xml version=\"1....\n",
      " * /rosdistro: noetic\n",
      " * /rosversion: 1.16.0\n",
      " * /use_sim_time: True\n",
      "\n",
      "NODES\n",
      "  /\n",
      "    gazebo (gazebo_ros/gzserver)\n",
      "    gazebo_gui (gazebo_ros/gzclient)\n",
      "    spawn_urdf (gazebo_ros/spawn_model)\n",
      "\n",
      "auto-starting new master\n",
      "\u001b[1mprocess[master]: started with pid [2540477]\u001b[0m\n",
      "\u001b[1mROS_MASTER_URI=http://Supernova-G15:14232/\u001b[0m\n",
      "\u001b]2;/home/eduardo/USVSim/yara_ws/src/Yara_OVE/eboat_gazebo/launch/ocean_RL_training.launch http://Supernova-G15:14232/\u0007\n",
      "\u001b[1msetting /run_id to 301de87a-2a35-11ee-baa5-f42679bfb63e\u001b[0m\n",
      "\u001b[1mprocess[rosout-1]: started with pid [2540502]\u001b[0m\n",
      "started core service [/rosout]\n",
      "\u001b[1mprocess[gazebo-2]: started with pid [2540505]\u001b[0m\n",
      "\u001b[1mprocess[gazebo_gui-3]: started with pid [2540511]\u001b[0m\n",
      "\u001b[1mprocess[spawn_urdf-4]: started with pid [2540518]\u001b[0m\n",
      "\u001b[1m[spawn_urdf-4] process has finished cleanly\n",
      "log file: /home/eduardo/.ros/log/301de87a-2a35-11ee-baa5-f42679bfb63e/spawn_urdf-4*.log\u001b[0m\n",
      "[gazebo_gui-3] killing on exit\n",
      "[gazebo-2] killing on exit\n",
      "[rosout-1] killing on exit\n",
      "[master] killing on exit\n",
      "shutting down processing monitor...\n",
      "... shutting down processing monitor complete\n",
      "\u001b[1mdone\u001b[0m\n"
     ]
    },
    {
     "name": "stderr",
     "output_type": "stream",
     "text": [
      "[WARN] [1690212110.701253]: unable to communicate with ROS Master, registrations are now out of sync\n"
     ]
    },
    {
     "name": "stdout",
     "output_type": "stream",
     "text": [
      "Unable to register with master node [http://localhost:14232]: master may not be running yet. Will keep trying.\n"
     ]
    }
   ],
   "source": [
    "from rlberry.agents.torch import PPOAgent\n",
    "import gymnasium as gym\n",
    "import rospy\n",
    "import time\n",
    "\n",
    "#-->GAZEBO GYM\n",
    "import esailor_gym\n",
    "\n",
    "# env = gym.make('GazeboOceanEboatEnvCC25-v0')\n",
    "\n",
    "default_agent = AgentManager(PPOAgent, (gym.make, dict(id='GazeboOceanEboatEnvCC25-v0')),\n",
    "fit_budget=3e5,\n",
    "eval_kwargs=dict(eval_horizon=500),\n",
    "n_fit=1,\n",
    "agent_name=\"PPO default\",\n",
    ")\n",
    "\n",
    "# time.sleep(10)\n",
    "\n",
    "print(\"\\n\\n\\n=================================\\nTraining ...\\n=================================\\n\\n\\n\")\n",
    "\n",
    "\n",
    "default_agent.fit()\n",
    "_ = plot_writer_data([default_agent],\n",
    "                    tag=\"episode_rewards\",\n",
    "                    title=\"Training Episode Cumulative Rewards\",\n",
    "                    show=True,\n",
    "                    )"
   ]
  },
  {
   "cell_type": "code",
   "execution_count": null,
   "id": "4142bc91-3e6a-4671-bd90-d6eb26c6802e",
   "metadata": {},
   "outputs": [],
   "source": []
  }
 ],
 "metadata": {
  "kernelspec": {
   "display_name": "Python 3 (ipykernel)",
   "language": "python",
   "name": "python3"
  },
  "language_info": {
   "codemirror_mode": {
    "name": "ipython",
    "version": 3
   },
   "file_extension": ".py",
   "mimetype": "text/x-python",
   "name": "python",
   "nbconvert_exporter": "python",
   "pygments_lexer": "ipython3",
   "version": "3.10.9"
  }
 },
 "nbformat": 4,
 "nbformat_minor": 5
}
