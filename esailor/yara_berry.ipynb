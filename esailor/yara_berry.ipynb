{
 "cells": [
  {
   "cell_type": "code",
   "execution_count": 2,
   "id": "f805dd98",
   "metadata": {},
   "source": [
    "from rlberry.envs import gym_make\n",
    "from rlberry.manager import plot_writer_data, AgentManager, evaluate_agents\n",
    "from rlberry.agents.torch import A2CAgent\n",
    "from rlberry.agents.torch.utils.training import model_factory_from_env"
   ],
   "outputs": []
  },
  {
   "cell_type": "code",
   "execution_count": null,
   "id": "499e4aa4-2f11-43e6-b0b2-ae1f5c9190fa",
   "metadata": {
    "scrolled": true
   },
   "source": [
    "default_agent = AgentManager(A2CAgent, (gym_make, dict(id=\"CartPole-v1\")),\n",
    "fit_budget=3e5,\n",
    "eval_kwargs=dict(eval_horizon=500),\n",
    "n_fit=1,\n",
    "agent_name=\"A2C default\",\n",
    ")\n",
    "\n",
    "print(\"Training ...\")\n",
    "default_agent.fit()\n",
    "_ = plot_writer_data([default_agent],\n",
    "                    tag=\"episode_rewards\",\n",
    "                    title=\"Training Episode Cumulative Rewards\",\n",
    "                    show=True,\n",
    "                    )"
   ],
   "outputs": []
  },
  {
   "cell_type": "code",
   "execution_count": null,
   "id": "34a9449b",
   "metadata": {},
   "source": [
    "from rlberry.agents.torch import PPOAgent\n",
    "import gymnasium as gym\n",
    "import rospy\n",
    "import time\n",
    "\n",
    "#-->GAZEBO GYM\n",
    "import esailor_gym\n",
    "\n",
    "# env = gym.make('GazeboOceanEboatEnvCC25-v0')\n",
    "\n",
    "default_agent = AgentManager(PPOAgent, (gym.make, dict(id='GazeboOceanEboatEnvCC25-v0')),\n",
    "fit_budget=3e5,\n",
    "eval_kwargs=dict(eval_horizon=500),\n",
    "n_fit=1,\n",
    "agent_name=\"PPO default\",\n",
    ")\n",
    "\n",
    "# time.sleep(10)\n",
    "\n",
    "print(\"\\n\\n\\n=================================\\nTraining ...\\n=================================\\n\\n\\n\")\n",
    "\n",
    "\n",
    "default_agent.fit()\n",
    "_ = plot_writer_data([default_agent],\n",
    "                    tag=\"episode_rewards\",\n",
    "                    title=\"Training Episode Cumulative Rewards\",\n",
    "                    show=True,\n",
    "                    )"
   ],
   "outputs": []
  },
  {
   "cell_type": "code",
   "execution_count": null,
   "id": "4142bc91-3e6a-4671-bd90-d6eb26c6802e",
   "metadata": {},
   "source": [],
   "outputs": []
  }
 ],
 "metadata": {
  "kernelspec": {
   "display_name": "Python 3 (ipykernel)",
   "language": "python",
   "name": "python3"
  },
  "language_info": {
   "codemirror_mode": {
    "name": "ipython",
    "version": 3
   },
   "file_extension": ".py",
   "mimetype": "text/x-python",
   "name": "python",
   "nbconvert_exporter": "python",
   "pygments_lexer": "ipython3",
   "version": "3.10.9"
  }
 },
 "nbformat": 4,
 "nbformat_minor": 5
}
